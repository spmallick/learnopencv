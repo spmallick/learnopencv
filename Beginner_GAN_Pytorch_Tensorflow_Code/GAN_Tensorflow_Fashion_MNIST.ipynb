{
  "nbformat": 4,
  "nbformat_minor": 0,
  "metadata": {
    "colab": {
      "name": "GAN_Tensorflow_Fashion_MNIST.ipynb",
      "provenance": [],
      "collapsed_sections": []
    },
    "kernelspec": {
      "name": "python3",
      "display_name": "Python 3"
    },
    "accelerator": "GPU"
  },
  "cells": [
    {
      "cell_type": "code",
      "metadata": {
        "id": "8v7t9r_HV4Lo"
      },
      "source": [
        "import imageio\n",
        "import glob\n",
        "import os\n",
        "import time\n",
        "import tensorflow as tf\n",
        "from tensorflow.keras import layers\n",
        "from IPython import display\n",
        "import matplotlib.pyplot as plt\n",
        "%matplotlib inline\n",
        "from tensorflow import keras"
      ],
      "execution_count": null,
      "outputs": []
    },
    {
      "cell_type": "code",
      "metadata": {
        "id": "OQPkfIk2V76t"
      },
      "source": [
        "(x_train, y_train), (x_test, y_test) = tf.keras.datasets.fashion_mnist.load_data()\n",
        "x_train = x_train.reshape(x_train.shape[0], 28, 28, 1).astype('float32')\n",
        "x_train = (x_train - 127.5) / 127.5 # Normalize the images to [-1, 1]\n",
        "# Batch and shuffle the data\n",
        "train_dataset = tf.data.Dataset.from_tensor_slices(x_train).\\\n",
        "shuffle(60000).batch(128)"
      ],
      "execution_count": null,
      "outputs": []
    },
    {
      "cell_type": "code",
      "metadata": {
        "id": "x89gF8h6ce4J",
        "outputId": "e994d077-c506-4fa9-9e5f-381272fe6858",
        "colab": {
          "base_uri": "https://localhost:8080/",
          "height": 34
        }
      },
      "source": [
        "x_train.shape"
      ],
      "execution_count": null,
      "outputs": [
        {
          "output_type": "execute_result",
          "data": {
            "text/plain": [
              "(60000, 28, 28, 1)"
            ]
          },
          "metadata": {
            "tags": []
          },
          "execution_count": 3
        }
      ]
    },
    {
      "cell_type": "code",
      "metadata": {
        "id": "f0sCTCEgL6fE"
      },
      "source": [
        "BUFFER_SIZE = 60000\n",
        "BATCH_SIZE = 128"
      ],
      "execution_count": null,
      "outputs": []
    },
    {
      "cell_type": "code",
      "metadata": {
        "id": "eWj2IM8L_AFV"
      },
      "source": [
        "latent_dim = 100\n",
        "image_dim = 784"
      ],
      "execution_count": null,
      "outputs": []
    },
    {
      "cell_type": "code",
      "metadata": {
        "id": "_2qVvmRDMsHJ"
      },
      "source": [
        "num_examples_to_generate = 25\n",
        "# We will reuse this seed overtime to visualize progress\n",
        "seed = tf.random.normal([num_examples_to_generate, latent_dim])"
      ],
      "execution_count": null,
      "outputs": []
    },
    {
      "cell_type": "code",
      "metadata": {
        "id": "LnnRfC-ht7G-"
      },
      "source": [
        "def generator(image_dim):\n",
        "    \n",
        "    inputs = keras.Input(shape=(100,), name='input_layer')\n",
        "    x = layers.Dense(128, kernel_initializer=tf.keras.initializers.he_uniform, name='dense_1')(inputs)\n",
        "    #print(x.dtype)\n",
        "    x = layers.LeakyReLU(0.2, name='leaky_relu_1')(x)\n",
        "    x = layers.Dense(256, kernel_initializer=tf.keras.initializers.he_uniform, name='dense_2')(x) \n",
        "    x = layers.BatchNormalization(momentum=0.1,  epsilon=0.8, name='bn_1')(x)\n",
        "    x = layers.LeakyReLU(0.2, name='leaky_relu_2')(x)\n",
        "    x = layers.Dense(512, kernel_initializer=tf.keras.initializers.he_uniform, name='dense_3')(x) \n",
        "    x = layers.BatchNormalization(momentum=0.1,  epsilon=0.8, name='bn_2')(x)\n",
        "    x = layers.LeakyReLU(0.2, name='leaky_relu_3')(x)\n",
        "    x = layers.Dense(1024, kernel_initializer=tf.keras.initializers.he_uniform,  name='dense_4')(x) \n",
        "    x = layers.BatchNormalization(momentum=0.1,  epsilon=0.8, name='bn_3')(x)\n",
        "    x = layers.LeakyReLU(0.2, name='leaky_relu_4')(x)\n",
        "    x = layers.Dense(image_dim, kernel_initializer=tf.keras.initializers.he_uniform, activation='tanh',  name='dense_5')(x) \n",
        "    outputs = tf.reshape(x, [-1, 28, 28, 1], name='Reshape_Layer')\n",
        "    model = tf.keras.Model(inputs, outputs, name=\"Generator\")\n",
        "    return model"
      ],
      "execution_count": null,
      "outputs": []
    },
    {
      "cell_type": "code",
      "metadata": {
        "id": "QoYWQzl71sla"
      },
      "source": [
        "generator = generator(image_dim)"
      ],
      "execution_count": null,
      "outputs": []
    },
    {
      "cell_type": "code",
      "metadata": {
        "id": "P_FfXNcMNSlD",
        "outputId": "8b000bd9-8bd5-42a3-8303-534263866490",
        "colab": {
          "base_uri": "https://localhost:8080/",
          "height": 656
        }
      },
      "source": [
        "generator.summary()"
      ],
      "execution_count": null,
      "outputs": [
        {
          "output_type": "stream",
          "text": [
            "Model: \"Generator\"\n",
            "_________________________________________________________________\n",
            "Layer (type)                 Output Shape              Param #   \n",
            "=================================================================\n",
            "input_layer (InputLayer)     [(None, 100)]             0         \n",
            "_________________________________________________________________\n",
            "dense_1 (Dense)              (None, 128)               12928     \n",
            "_________________________________________________________________\n",
            "leaky_relu_1 (LeakyReLU)     (None, 128)               0         \n",
            "_________________________________________________________________\n",
            "dense_2 (Dense)              (None, 256)               33024     \n",
            "_________________________________________________________________\n",
            "bn_1 (BatchNormalization)    (None, 256)               1024      \n",
            "_________________________________________________________________\n",
            "leaky_relu_2 (LeakyReLU)     (None, 256)               0         \n",
            "_________________________________________________________________\n",
            "dense_3 (Dense)              (None, 512)               131584    \n",
            "_________________________________________________________________\n",
            "bn_2 (BatchNormalization)    (None, 512)               2048      \n",
            "_________________________________________________________________\n",
            "leaky_relu_3 (LeakyReLU)     (None, 512)               0         \n",
            "_________________________________________________________________\n",
            "dense_4 (Dense)              (None, 1024)              525312    \n",
            "_________________________________________________________________\n",
            "bn_3 (BatchNormalization)    (None, 1024)              4096      \n",
            "_________________________________________________________________\n",
            "leaky_relu_4 (LeakyReLU)     (None, 1024)              0         \n",
            "_________________________________________________________________\n",
            "dense_5 (Dense)              (None, 784)               803600    \n",
            "_________________________________________________________________\n",
            "tf_op_layer_Reshape_Layer (T [(None, 28, 28, 1)]       0         \n",
            "=================================================================\n",
            "Total params: 1,513,616\n",
            "Trainable params: 1,510,032\n",
            "Non-trainable params: 3,584\n",
            "_________________________________________________________________\n"
          ],
          "name": "stdout"
        }
      ]
    },
    {
      "cell_type": "code",
      "metadata": {
        "id": "3QpIJVFlIaLq"
      },
      "source": [
        "def discriminator():\n",
        "    inputs = keras.Input(shape=(28,28,1), name='input_layer')\n",
        "    input = tf.reshape(inputs, [-1, 784], name='reshape_layer')\n",
        "    x = layers.Dense(512, kernel_initializer=tf.keras.initializers.he_uniform, name='dense_1')(input)\n",
        "    x = layers.LeakyReLU(0.2, name='leaky_relu_1')(x)\n",
        "    x = layers.Dense(256, kernel_initializer=tf.keras.initializers.he_uniform, name='dense_2')(x) \n",
        "    x = layers.LeakyReLU(0.2, name='leaky_relu_2')(x)\n",
        "    outputs = layers.Dense(1, kernel_initializer=tf.keras.initializers.he_uniform, activation='sigmoid', name='dense_3') (x) \n",
        "    model = tf.keras.Model(inputs, outputs, name=\"Discriminator\")\n",
        "    return model"
      ],
      "execution_count": null,
      "outputs": []
    },
    {
      "cell_type": "code",
      "metadata": {
        "id": "3Yqjb2MvIoJH"
      },
      "source": [
        "discriminator = discriminator()\n",
        "#discriminator.save('disc.h5')"
      ],
      "execution_count": null,
      "outputs": []
    },
    {
      "cell_type": "code",
      "metadata": {
        "id": "p-EnSPSNI5Kp",
        "outputId": "11f5da2e-f0ef-4480-d27e-51f58966995a",
        "colab": {
          "base_uri": "https://localhost:8080/",
          "height": 407
        }
      },
      "source": [
        "discriminator.summary()"
      ],
      "execution_count": null,
      "outputs": [
        {
          "output_type": "stream",
          "text": [
            "Model: \"Discriminator\"\n",
            "_________________________________________________________________\n",
            "Layer (type)                 Output Shape              Param #   \n",
            "=================================================================\n",
            "input_layer (InputLayer)     [(None, 28, 28, 1)]       0         \n",
            "_________________________________________________________________\n",
            "tf_op_layer_reshape_layer_1  [(None, 784)]             0         \n",
            "_________________________________________________________________\n",
            "dense_1 (Dense)              (None, 512)               401920    \n",
            "_________________________________________________________________\n",
            "leaky_relu_1 (LeakyReLU)     (None, 512)               0         \n",
            "_________________________________________________________________\n",
            "dense_2 (Dense)              (None, 256)               131328    \n",
            "_________________________________________________________________\n",
            "leaky_relu_2 (LeakyReLU)     (None, 256)               0         \n",
            "_________________________________________________________________\n",
            "dense_3 (Dense)              (None, 1)                 257       \n",
            "=================================================================\n",
            "Total params: 533,505\n",
            "Trainable params: 533,505\n",
            "Non-trainable params: 0\n",
            "_________________________________________________________________\n"
          ],
          "name": "stdout"
        }
      ]
    },
    {
      "cell_type": "code",
      "metadata": {
        "id": "ODXhGinhxCDQ"
      },
      "source": [
        "binary_cross_entropy = tf.keras.losses.BinaryCrossentropy()"
      ],
      "execution_count": null,
      "outputs": []
    },
    {
      "cell_type": "code",
      "metadata": {
        "id": "2iJpP5heJ3jF"
      },
      "source": [
        "def generator_loss(fake_output):\n",
        "    gen_loss = binary_cross_entropy(tf.ones_like(fake_output), fake_output)\n",
        "    #print(gen_loss)\n",
        "    return gen_loss"
      ],
      "execution_count": null,
      "outputs": []
    },
    {
      "cell_type": "code",
      "metadata": {
        "id": "d0PZ7wFivGPJ"
      },
      "source": [
        "def discriminator_loss(real_output, fake_output):\n",
        "    real_loss = binary_cross_entropy(tf.ones_like(real_output), real_output)\n",
        "    fake_loss = binary_cross_entropy(tf.zeros_like(fake_output), fake_output)\n",
        "    total_loss = real_loss + fake_loss\n",
        "    #print(total_loss)\n",
        "    return total_loss"
      ],
      "execution_count": null,
      "outputs": []
    },
    {
      "cell_type": "code",
      "metadata": {
        "id": "oFFJeX4CKUmJ"
      },
      "source": [
        "learning_rate = 0.0002 "
      ],
      "execution_count": null,
      "outputs": []
    },
    {
      "cell_type": "code",
      "metadata": {
        "id": "lNh5N4cn8iX0"
      },
      "source": [
        "generator_optimizer = tf.keras.optimizers.Adam(lr = 0.0002, beta_1 = 0.5, beta_2 = 0.999 )\n",
        "discriminator_optimizer = tf.keras.optimizers.Adam(lr = 0.0002, beta_1 = 0.5, beta_2 = 0.999 )"
      ],
      "execution_count": null,
      "outputs": []
    },
    {
      "cell_type": "code",
      "metadata": {
        "id": "dj5-sjkaKslc"
      },
      "source": [
        "# Notice the use of `tf.function`\n",
        "# This annotation causes the function to be \"compiled\".\n",
        "@tf.function\n",
        "def train_step(images):\n",
        "    noise = tf.random.normal([BATCH_SIZE, latent_dim])\n",
        "\n",
        "    with tf.GradientTape() as gen_tape, tf.GradientTape() as disc_tape:\n",
        "      generated_images = generator(noise, training=True)\n",
        "\n",
        "      real_output = discriminator(images, training=True)\n",
        "      fake_output = discriminator(generated_images, training=True)\n",
        "      \n",
        "      gen_loss = generator_loss(fake_output)\n",
        "      disc_loss = discriminator_loss(real_output, fake_output)\n",
        "      \n",
        "    \n",
        "    gradients_of_gen = gen_tape.gradient(gen_loss, generator.trainable_variables)\n",
        "    gradients_of_disc = disc_tape.gradient(disc_loss, discriminator.trainable_variables)\n",
        "    \n",
        "    \n",
        "    generator_optimizer.apply_gradients(zip(gradients_of_gen,\\\n",
        "    generator.trainable_variables))\n",
        "    discriminator_optimizer.apply_gradients(zip(gradients_of_disc,\\\n",
        "    discriminator.trainable_variables))\n",
        "    #return gen_loss, disc_loss"
      ],
      "execution_count": null,
      "outputs": []
    },
    {
      "cell_type": "code",
      "metadata": {
        "id": "nAB55LSQxpZx",
        "outputId": "222166c3-99fd-4c99-fe4f-65479f65e54e",
        "colab": {
          "base_uri": "https://localhost:8080/",
          "height": 34
        }
      },
      "source": [
        "!mkdir tensor"
      ],
      "execution_count": null,
      "outputs": [
        {
          "output_type": "stream",
          "text": [
            "mkdir: cannot create directory ‘tensor’: File exists\n"
          ],
          "name": "stdout"
        }
      ]
    },
    {
      "cell_type": "code",
      "metadata": {
        "id": "TelOAgFEZSUg"
      },
      "source": [
        "import os\n",
        "checkpoint_dir = './training_checkpoints'\n",
        "checkpoint_prefix = os.path.join(checkpoint_dir, \"ckpt\")\n",
        "checkpoint = tf.train.Checkpoint(generator_optimizer=generator_optimizer,\n",
        "                                 discriminator_optimizer=discriminator_optimizer,\n",
        "                                 generator=generator,\n",
        "                                 discriminator=discriminator)"
      ],
      "execution_count": null,
      "outputs": []
    },
    {
      "cell_type": "code",
      "metadata": {
        "id": "yF1MGKDEKyyr"
      },
      "source": [
        "def train(dataset, epochs):\n",
        "  for epoch in range(epochs):\n",
        "    start = time.time()\n",
        "    i = 0\n",
        "    D_loss_list, G_loss_list = [], []\n",
        "    for image_batch in dataset:\n",
        "      i += 1\n",
        "      train_step(image_batch)\n",
        "      \n",
        "    display.clear_output(wait=True)\n",
        "    generate_and_save_images(generator,\n",
        "                              epoch + 1,\n",
        "                              seed)\n",
        "\n",
        "    # Save the model every 15 epochs\n",
        "    if (epoch + 1) % 15 == 0:\n",
        "      checkpoint.save(file_prefix = checkpoint_prefix)\n",
        "\n",
        "    print ('Time for epoch {} is {} sec'.format(epoch + 1, time.time()-start))\n",
        "\n",
        "  # Generate after the final epoch\n",
        "  display.clear_output(wait=True)\n",
        "  generate_and_save_images(generator,\n",
        "                            epochs,\n",
        "                            seed)"
      ],
      "execution_count": null,
      "outputs": []
    },
    {
      "cell_type": "code",
      "metadata": {
        "id": "eLgrBH2oK2KI"
      },
      "source": [
        "def generate_and_save_images(model, epoch, test_input):\n",
        "  # Notice `training` is set to False.\n",
        "  # This is so all layers run in inference mode (batchnorm).\n",
        "  predictions = model(test_input, training=False)\n",
        "  print(predictions.shape)\n",
        "  fig = plt.figure(figsize=(4,4))\n",
        "\n",
        "  for i in range(predictions.shape[0]):\n",
        "      plt.subplot(5, 5, i+1)\n",
        "      plt.imshow(predictions[i, :, :, 0] * 127.5 + 127.5, cmap='gray')\n",
        "      plt.axis('off')\n",
        "\n",
        "  plt.savefig('tensor/image_at_epoch_{:d}.png'.format(epoch))\n",
        "  plt.show()"
      ],
      "execution_count": null,
      "outputs": []
    },
    {
      "cell_type": "code",
      "metadata": {
        "id": "jf5uwfAYK419"
      },
      "source": [
        "train(train_dataset, 200)"
      ],
      "execution_count": null,
      "outputs": []
    }
  ]
}
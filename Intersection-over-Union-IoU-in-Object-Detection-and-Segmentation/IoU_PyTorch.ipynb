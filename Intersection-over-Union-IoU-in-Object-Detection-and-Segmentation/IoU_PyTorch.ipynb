{
 "cells": [
  {
   "cell_type": "markdown",
   "id": "3d2f04f5",
   "metadata": {
    "id": "3d2f04f5"
   },
   "source": [
    "# IOU Calculation Using PyTorch"
   ]
  },
  {
   "cell_type": "markdown",
   "id": "658f78ec",
   "metadata": {
    "id": "658f78ec"
   },
   "source": [
    "<img src=\"https://learnopencv.com/wp-content/uploads/2022/06/kites-iou-calculate.jpg\" alt=\"Kite detection\">"
   ]
  },
  {
   "cell_type": "markdown",
   "id": "bb375549",
   "metadata": {},
   "source": [
    "## 1. Using built-in ops module from TorchVision\n",
    "Pytorch already has a built-in function to calculate IoU. [**Documentation here**](https://pytorch.org/vision/main/generated/torchvision.ops.box_iou.html)."
   ]
  },
  {
   "cell_type": "markdown",
   "id": "03012c43",
   "metadata": {
    "id": "03012c43"
   },
   "source": [
    "### Import dependecies"
   ]
  },
  {
   "cell_type": "code",
   "execution_count": 27,
   "id": "aa26fd1b",
   "metadata": {
    "colab": {
     "base_uri": "https://localhost:8080/",
     "height": 35
    },
    "executionInfo": {
     "elapsed": 3188,
     "status": "ok",
     "timestamp": 1656077969334,
     "user": {
      "displayName": "Kukil Kashyap",
      "userId": "02345555180714266540"
     },
     "user_tz": -330
    },
    "id": "aa26fd1b",
    "outputId": "78fa60f1-1fd8-435e-9348-f6e7f344e40d"
   },
   "outputs": [
    {
     "data": {
      "text/plain": [
       "'1.10.2+cu102'"
      ]
     },
     "execution_count": 27,
     "metadata": {},
     "output_type": "execute_result"
    }
   ],
   "source": [
    "import torch\n",
    "from torchvision import ops\n",
    "torch.__version__"
   ]
  },
  {
   "cell_type": "markdown",
   "id": "3784292e",
   "metadata": {
    "id": "3784292e"
   },
   "source": [
    "### Bounding Box Coordinates"
   ]
  },
  {
   "cell_type": "code",
   "execution_count": 28,
   "id": "0314d02d",
   "metadata": {},
   "outputs": [],
   "source": [
    "ground_truth_bbox = torch.tensor([[1202, 123, 1650, 868]], dtype=torch.float)\n",
    "\n",
    "prediction_bbox = torch.tensor([[1162.0001, 92.0021, 1619.9832, 694.0033]], dtype=torch.float)"
   ]
  },
  {
   "cell_type": "markdown",
   "id": "48f8a72c",
   "metadata": {},
   "source": [
    "### Get IoU"
   ]
  },
  {
   "cell_type": "code",
   "execution_count": 29,
   "id": "8de3292e",
   "metadata": {},
   "outputs": [
    {
     "name": "stdout",
     "output_type": "stream",
     "text": [
      "tensor([[0.6437]])\n"
     ]
    }
   ],
   "source": [
    "iou = ops.box_iou(ground_truth_bbox, prediction_bbox)\n",
    "print(iou)"
   ]
  },
  {
   "cell_type": "code",
   "execution_count": 30,
   "id": "6e8cb950",
   "metadata": {},
   "outputs": [
    {
     "name": "stdout",
     "output_type": "stream",
     "text": [
      "IOU: 0.6436676\n"
     ]
    }
   ],
   "source": [
    "print('IOU:', iou.numpy()[0][0])"
   ]
  },
  {
   "cell_type": "markdown",
   "id": "d9ca6249",
   "metadata": {},
   "source": [
    "## 2. Defining a Function Manually"
   ]
  },
  {
   "cell_type": "markdown",
   "id": "a183afbb",
   "metadata": {
    "id": "a183afbb"
   },
   "source": [
    "### Function to Calculate IOU\n",
    "Since images are not continuous but discrete, we are adding 1 while calculating height and width to counter zero division error. However, it introduces some error. We will keep iot that way for sake of simplicity."
   ]
  },
  {
   "cell_type": "code",
   "execution_count": 33,
   "id": "989916e2",
   "metadata": {
    "executionInfo": {
     "elapsed": 394,
     "status": "ok",
     "timestamp": 1656077973583,
     "user": {
      "displayName": "Kukil Kashyap",
      "userId": "02345555180714266540"
     },
     "user_tz": -330
    },
    "id": "989916e2"
   },
   "outputs": [],
   "source": [
    "def get_iou(ground_truth, pred):\n",
    "    # coordinates of the area of intersection.\n",
    "    ix1 = torch.max(ground_truth[0][0], pred[0][0])\n",
    "    iy1 = torch.max(ground_truth[0][1], pred[0][1])\n",
    "    ix2 = torch.min(ground_truth[0][2], pred[0][2])\n",
    "    iy2 = torch.min(ground_truth[0][3], pred[0][3])\n",
    "    \n",
    "    # Intersection height and width.\n",
    "    i_height = torch.max(iy2 - iy1 + 1, torch.tensor(0.))\n",
    "    i_width = torch.max(ix2 - ix1 + 1, torch.tensor(0.))\n",
    "    \n",
    "    area_of_intersection = i_height * i_width\n",
    "    \n",
    "    # Ground Truth dimensions.\n",
    "    gt_height = ground_truth[0][3] - ground_truth[0][1] + 1\n",
    "    gt_width = ground_truth[0][2] - ground_truth[0][0] + 1\n",
    "    \n",
    "    # Prediction dimensions.\n",
    "    pd_height = pred[0][3] - pred[0][1] + 1\n",
    "    pd_width = pred[0][2] - pred[0][0] + 1\n",
    "    \n",
    "    area_of_union = gt_height * gt_width + pd_height * pd_width - area_of_intersection\n",
    "    \n",
    "    iou = area_of_intersection / area_of_union\n",
    "    \n",
    "    return iou"
   ]
  },
  {
   "cell_type": "code",
   "execution_count": 34,
   "id": "0f037e73",
   "metadata": {
    "colab": {
     "base_uri": "https://localhost:8080/"
    },
    "executionInfo": {
     "elapsed": 4,
     "status": "ok",
     "timestamp": 1656077975961,
     "user": {
      "displayName": "Kukil Kashyap",
      "userId": "02345555180714266540"
     },
     "user_tz": -330
    },
    "id": "0f037e73",
    "outputId": "df3153b6-21cd-4dba-a41e-b18553aab0c7"
   },
   "outputs": [
    {
     "name": "stdout",
     "output_type": "stream",
     "text": [
      "IOU :  0.64413995\n"
     ]
    }
   ],
   "source": [
    "# Get IOU.\n",
    "iou_val = get_iou(ground_truth_bbox, prediction_bbox)\n",
    "print('IOU : ', iou_val.numpy())"
   ]
  }
 ],
 "metadata": {
  "colab": {
   "name": "IoU_calc.ipynb",
   "provenance": []
  },
  "kernelspec": {
   "display_name": "yolor-ipyKernel",
   "language": "python",
   "name": "yolor"
  },
  "language_info": {
   "codemirror_mode": {
    "name": "ipython",
    "version": 3
   },
   "file_extension": ".py",
   "mimetype": "text/x-python",
   "name": "python",
   "nbconvert_exporter": "python",
   "pygments_lexer": "ipython3",
   "version": "3.6.13"
  }
 },
 "nbformat": 4,
 "nbformat_minor": 5
}

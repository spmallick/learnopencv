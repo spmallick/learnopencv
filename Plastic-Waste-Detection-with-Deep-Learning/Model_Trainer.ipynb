{
  "nbformat": 4,
  "nbformat_minor": 0,
  "metadata": {
    "accelerator": "GPU",
    "colab": {
      "name": "Model Trainer.ipynb",
      "provenance": [],
      "collapsed_sections": []
    },
    "kernelspec": {
      "display_name": "Python 3",
      "name": "python3"
    },
    "language_info": {
      "name": "python"
    }
  },
  "cells": [
    {
      "cell_type": "code",
      "metadata": {
        "id": "q5fR8ZrD5uaX"
      },
      "source": [
        "!pip install imageai --upgrade\n",
        "!pip install split-folders\n",
        "\n",
        "import PIL\n",
        "import os\n",
        "# https://github.com/jfilter/split-folders\n",
        "import splitfolders\n",
        "# https://github.com/OlafenwaMoses/ImageAI\n",
        "from imageai.Detection.Custom import DetectionModelTrainer\n",
        "from imageai.Detection.Custom import CustomObjectDetection\n",
        "from google.colab import drive"
      ],
      "execution_count": null,
      "outputs": []
    },
    {
      "cell_type": "code",
      "metadata": {
        "id": "mrcy7I695xD6"
      },
      "source": [
        "# Copy our dataset from google drive to google colab for faster training\n",
        "drive.mount('/content/drive')\n",
        "dataset_folder=\"MyDataset\"\n",
        "model_folder=\"MyModels\"\n",
        "directory_name = \"MyWorkspace\"\n",
        "\n",
        "input_folder = f\"/content/drive/MyDrive/{dataset_folder}\"\n",
        "output = f\"/content/{directory_name}\"\n",
        "splitfolders.ratio(input_folder, output=output, seed=42, ratio=(.70, .15, .15))\n",
        "\n",
        "# Download pretrained model\n",
        "!wget https://github.com/OlafenwaMoses/ImageAI/releases/download/essential-v4/pretrained-yolov3.h5 /content/$directory_name"
      ],
      "execution_count": null,
      "outputs": []
    },
    {
      "cell_type": "code",
      "metadata": {
        "colab": {
          "background_save": true
        },
        "id": "xvarZmMynRDN"
      },
      "source": [
        "# Setup trainer\n",
        "trainer = DetectionModelTrainer()  \n",
        "trainer.setModelTypeAsYOLOv3()\n",
        "trainer.setDataDirectory(data_directory=output)\n",
        "trainer.setTrainConfig(object_names_array=['plastic', 'metal', 'paper', 'glass'],\n",
        "                       batch_size=4, num_experiments=20,\n",
        "                       train_from_pretrained_model=\"pretrained-yolov3.h5\"\n",
        "                       )\n",
        "trainer.trainModel()"
      ],
      "execution_count": null,
      "outputs": []
    },
    {
      "cell_type": "code",
      "metadata": {
        "id": "EVkZ6dRr4YXW"
      },
      "source": [
        "# Image to test\n",
        "image_path = f'/content/{directory_name}/test/images'\n",
        "image_name = os.listdir(image_path)[0]\n",
        "# Minimum detection confidence threshold percentage. If you don't get any detections, try lowering the threshold. \n",
        "min_threshold = 30\n",
        "\n",
        "# Get our model from google colab\n",
        "!cp -r /content/drive/My\\ Drive/$model_folder/* /content/$directory_name/models\n",
        "\n",
        "# Get the latest model saved (with the lowest loss)\n",
        "all_models = os.listdir(f'/content/{directory_name}/models')\n",
        "all_models.sort()\n",
        "best_model = all_models[-1]\n",
        "\n",
        "detector = CustomObjectDetection()\n",
        "detector.setModelTypeAsYOLOv3()\n",
        "detector.setModelPath(f\"/content/{directory_name}/models/{best_model}\")\n",
        "detector.setJsonPath(f\"/content/{directory_name}/json/detection_config.json\")\n",
        "detector.loadModel()\n",
        "detections = detector.detectObjectsFromImage(input_image=f\"{image_path}/{image_name}\",\n",
        "                                             output_image_path=\"/content/detections.jpg\",\n",
        "                                             minimum_percentage_probability=min_threshold)\n",
        "\n",
        "# Show image with detections\n",
        "image = PIL.Image.open(\"/content/detections.jpg\")\n",
        "display(image)"
      ],
      "execution_count": null,
      "outputs": []
    },
    {
      "cell_type": "code",
      "metadata": {
        "id": "DeZs_zCh_n3E"
      },
      "source": [
        "# Save best model to colab\n",
        "!mkdir /content/drive/My\\ Drive/{model_folder}\n",
        "!cp /content/{directory_name}/models/{best_model} /content/drive/My\\ Drive/{model_folder}/{best_model}\n",
        "!cp /content/{directory_name}/json/detection_config.json /content/drive/My\\ Drive/{model_folder}"
      ],
      "execution_count": null,
      "outputs": []
    }
  ]
}
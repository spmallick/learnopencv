{
 "cells": [
  {
   "cell_type": "markdown",
   "id": "3a1be296",
   "metadata": {},
   "source": [
    "# WeChat QR Code Scanner"
   ]
  },
  {
   "cell_type": "markdown",
   "id": "bdb6925f",
   "metadata": {},
   "source": [
    "WeChat QR code scanner is a CNN-based high-performance and lightweight QR code detect and decode library. Contributed by the 3rd-party WeChat CV Team. It was released with OpenCV 4.5.2. It has been widely used in various Tencent applications, including WeChat, WeCom, QQ, QQ Browser, and so on.\n",
    "Checkout this [link](https://github.com/opencv/opencv_contrib/tree/master/modules/wechat_qrcode) for more information. <br>\n",
    "In this notebook, you are going to learn implementation of WeChat QR Code scanner. We will also compare the default OpenCV QR code scanner with it."
   ]
  },
  {
   "cell_type": "markdown",
   "id": "b17c7d77",
   "metadata": {},
   "source": [
    "## <font style=\"color:rgb(50,120,229)\">WeChat QR Code Scanner in OpenCV</font>\n",
    "\n",
    "### <font color=\"green\">Function Syntax </font>\n",
    "\n",
    "1. Instantiating detector object.\n",
    "```\n",
    "detector = cv2.wechat_qrcode_WeChatQRCode(\"PATH_TO_DETECTOR_PROTOTXT\",\n",
    "                                            \"PATH_TO_DETECTOR_CAFFE_MODEL\", \n",
    "                                            \"PATH_TO_SUPER_RESOLUTION_PROTOTXT\", \n",
    "                                            \"PATH_TO_SUPER_RESOLUTION_CAFFE_MODEL\")\n",
    "```\n",
    "2. Detect and decode.\n",
    "```\n",
    "ret, points = detctor.detectAndDecode(src)\n",
    "```\n",
    "\n",
    "**PARAMETERS**\n",
    " - ret : returns list of decoded string.\n",
    " - points : optional output array of vertices of the found QR code quadrangle. Will be empty if not found.\n",
    " - src : gray scale or color image.\n",
    " \n",
    " The model files can be downloaded from this [link](https://github.com/WeChatCV/opencv_3rdparty/tree/wechat_qrcode).\n",
    "\n",
    "### <font color=\"green\">OpenCV Documentation </font>\n",
    "[**`WeChatQRCode`**](https://docs.opencv.org/4.5.4/d5/d04/classcv_1_1wechat__qrcode_1_1WeChatQRCode.html)"
   ]
  },
  {
   "cell_type": "markdown",
   "id": "509ea0b8",
   "metadata": {},
   "source": [
    "### Import Libraries"
   ]
  },
  {
   "cell_type": "code",
   "execution_count": null,
   "id": "a582fbe0",
   "metadata": {},
   "outputs": [],
   "source": [
    "import cv2\n",
    "import time\n",
    "import numpy as np\n",
    "import matplotlib.pyplot as plt\n",
    "%matplotlib inline"
   ]
  },
  {
   "cell_type": "markdown",
   "id": "1657e5f0",
   "metadata": {},
   "source": [
    "### Define utility function to draw bounding box"
   ]
  },
  {
   "cell_type": "code",
   "execution_count": null,
   "id": "c4b2a8dd",
   "metadata": {},
   "outputs": [],
   "source": [
    "def displayBbox(im, bbox):\n",
    "    if bbox is not None:\n",
    "        bbox = [bbox[0].astype(int)]\n",
    "        n = len(bbox[0])\n",
    "        for i in range(n):\n",
    "            cv2.line(im, tuple(bbox[0][i]), tuple(bbox[0][(i+1) % n]), (0,255,0), 3)"
   ]
  },
  {
   "cell_type": "markdown",
   "id": "5ef84763",
   "metadata": {},
   "source": [
    "### Instantiate QR Code detector object"
   ]
  },
  {
   "cell_type": "code",
   "execution_count": null,
   "id": "b81cb924",
   "metadata": {},
   "outputs": [],
   "source": [
    "detector = cv2.wechat_qrcode_WeChatQRCode(\"../model/detect.prototxt\",\n",
    "    \"../model/detect.caffemodel\",\n",
    "    \"../model/sr.prototxt\",\n",
    "    \"../model/sr.caffemodel\")"
   ]
  },
  {
   "cell_type": "markdown",
   "id": "5e32857b",
   "metadata": {},
   "source": [
    "### Load image"
   ]
  },
  {
   "cell_type": "code",
   "execution_count": null,
   "id": "06d884be",
   "metadata": {},
   "outputs": [],
   "source": [
    "img = cv2.imread('sample-qrcode.jpg')"
   ]
  },
  {
   "cell_type": "markdown",
   "id": "5e36b53b",
   "metadata": {},
   "source": [
    "### Decode and display results\n",
    "Upon execution, we get the decoded data, the bounding box and the time taken in milliseconds to process the image."
   ]
  },
  {
   "cell_type": "code",
   "execution_count": null,
   "id": "a83e052b",
   "metadata": {},
   "outputs": [],
   "source": [
    "# Start time.\n",
    "t1 = time.time()\n",
    "# Detect and decode.\n",
    "res, points = detector.detectAndDecode(img)\n",
    "# End time.\n",
    "t2 = time.time()\n",
    "# Detected outputs.\n",
    "if len(res) > 0:\n",
    "    print('Time Taken : ', round(1000*(t2 - t1),1), ' ms')\n",
    "    print(' ')\n",
    "    print('Output : ', res[0])\n",
    "    print(' ')\n",
    "    print('Bounding Box : ', points)\n",
    "    displayBbox(img, points)\n",
    "else:\n",
    "    print('QRCode not detected')"
   ]
  },
  {
   "cell_type": "code",
   "execution_count": null,
   "id": "8b683cda",
   "metadata": {},
   "outputs": [],
   "source": [
    "# Display.\n",
    "plt.figure(figsize = (12,10))\n",
    "plt.imshow(img[...,::-1], cmap = 'gray'); plt.title('Output');"
   ]
  },
  {
   "cell_type": "markdown",
   "id": "f0f1ab19",
   "metadata": {},
   "source": [
    "## <font style=\"color:rgb(50,120,229)\">OpenCV vs WeChat Comparison</font>\n",
    "\n",
    "Let us perform test on a QR code video and compare on the basis of following.\n",
    " - Zoomed out (near / far)\n",
    " - Blurred.\n",
    " - Occluded.\n",
    " - Darkened.\n",
    " - Rotated."
   ]
  },
  {
   "cell_type": "markdown",
   "id": "a9aab020",
   "metadata": {},
   "source": [
    "### Function to display bounding box detected by OpenCV"
   ]
  },
  {
   "cell_type": "code",
   "execution_count": null,
   "id": "68d99111",
   "metadata": {},
   "outputs": [],
   "source": [
    "def displayBboxOpenCV(im, bbox):\n",
    "    if bbox is not None:\n",
    "        bbox = bbox.astype(int)\n",
    "        n = len(bbox[0])\n",
    "        for i in range(n):\n",
    "            cv2.line(im, tuple(bbox[0][i]), tuple(bbox[0][(i+1) % n]), yellow, 3)\n"
   ]
  },
  {
   "cell_type": "markdown",
   "id": "3cd7ddd5",
   "metadata": {},
   "source": [
    "### Function to display bounding box detected by WeChat"
   ]
  },
  {
   "cell_type": "code",
   "execution_count": null,
   "id": "ef60a12e",
   "metadata": {},
   "outputs": [],
   "source": [
    "\n",
    "def displayBboxWeChat(im, bbox):\n",
    "    if bbox is not None:\n",
    "        bbox = [bbox[0].astype(int)]\n",
    "        n = len(bbox[0])\n",
    "        for i in range(n):\n",
    "            cv2.line(im, tuple(bbox[0][i]), tuple(bbox[0][(i+1) % n]), green, 3)\n"
   ]
  },
  {
   "cell_type": "markdown",
   "id": "9b2b485c",
   "metadata": {},
   "source": [
    "### Function to process QR code OpenCV"
   ]
  },
  {
   "cell_type": "code",
   "execution_count": null,
   "id": "3133faed",
   "metadata": {},
   "outputs": [],
   "source": [
    "def opencvQR(im, qrDecoder):\n",
    "    # Detect and decode.\n",
    "    data, bbox, rectifiedImg = qrDecoder.detectAndDecode(im)\n",
    "    if len(data) > 0:\n",
    "        cv2.putText(im, 'OpenCV Output: {}'.format(data), (20, im.shape[0] - 25), font, fontScale, yellow, 2)\n",
    "        displayBboxOpenCV(im, bbox)\n",
    "#         print('QR Data [ OpenCV ]: ', data, bbox)\n",
    "    else:\n",
    "#         print('QR Code not detected by OpenCV')\n",
    "        cv2.putText(im, 'OpenCV Output: Not Detected', (20, im.shape[0] - 25), font, fontScale, red, 2)\n",
    "    return im\n"
   ]
  },
  {
   "cell_type": "markdown",
   "id": "fc393030",
   "metadata": {},
   "source": [
    "### Function to process QR code WeChat"
   ]
  },
  {
   "cell_type": "code",
   "execution_count": null,
   "id": "ffece913",
   "metadata": {},
   "outputs": [],
   "source": [
    "def wechatQR(im, detector):\n",
    "    # Detect and decode.\n",
    "    res, points = detector.detectAndDecode(im)\n",
    "    if len(res) > 0:\n",
    "#         print('QR Data [ Wechat ]: ', res, points)\n",
    "        cv2.putText(im, 'WeChat Output: {}'.format(res[0]), (20, im.shape[0] - 25), font, fontScale, green, 2)\n",
    "        displayBboxWeChat(im, points)\n",
    "    else:\n",
    "#         print('QRCode not detected by WeChat')\n",
    "        cv2.putText(im, 'WeChat Output: Not Detected', (20, im.shape[0] - 25), font, fontScale, red, 2)\n",
    "    return im"
   ]
  },
  {
   "cell_type": "markdown",
   "id": "fe8c1057",
   "metadata": {},
   "source": [
    "### Constants and initializations."
   ]
  },
  {
   "cell_type": "code",
   "execution_count": null,
   "id": "080d8144",
   "metadata": {},
   "outputs": [],
   "source": [
    "# Color.\n",
    "red = (0,0,255)\n",
    "green = (0,255,0)\n",
    "blue = (255,0,0)\n",
    "yellow = (0,255,255)\n",
    "# Font.\n",
    "font = cv2.FONT_HERSHEY_SIMPLEX\n",
    "fontScale = 0.8\n",
    "\n",
    "# Instantiate OpenCV QR Code detector.\n",
    "qrDecoder = cv2.QRCodeDetector()\n",
    "\n",
    "# Instantiate video capture object.\n",
    "vidCapture = cv2.VideoCapture('qRcode-sample.mp4')\n",
    "\n",
    "# Get metadata.\n",
    "frameWidth = int(vidCapture.get(cv2.CAP_PROP_FRAME_WIDTH))\n",
    "frameHeight = int(vidCapture.get(cv2.CAP_PROP_FRAME_HEIGHT))\n",
    "\n",
    "#Instantiate video writer object.\n",
    "output = cv2.VideoWriter('comparison-video.mp4', \n",
    "                         cv2.VideoWriter_fourcc(*'XVID'), \n",
    "                         30, (2*frameWidth, frameHeight))"
   ]
  },
  {
   "cell_type": "markdown",
   "id": "6f75f077",
   "metadata": {},
   "source": [
    "### Main loop"
   ]
  },
  {
   "cell_type": "code",
   "execution_count": null,
   "id": "ac6acee4",
   "metadata": {},
   "outputs": [],
   "source": [
    "print('Please wait ...')\n",
    "while (vidCapture.isOpened()):\n",
    "    ret, frame = vidCapture.read()\n",
    "    if not ret:\n",
    "        print('Error reading frames.')\n",
    "        break\n",
    "    img = frame.copy()\n",
    "    # Call OpenCV QR Code scanner.\n",
    "    outOpenCV = opencvQR(img.copy(), qrDecoder)\n",
    "    # Call WeChat QR Code scanner.\n",
    "    outWeChat = wechatQR(img.copy(), detector)\n",
    "    # Concatenate outputs.\n",
    "    result = cv2.hconcat([outOpenCV, outWeChat])\n",
    "    output.write(result)\n",
    "    \n",
    "print('Processing finished.')    \n",
    "output.release()\n",
    "vidCapture.release()"
   ]
  },
  {
   "cell_type": "markdown",
   "id": "e1a9deba",
   "metadata": {},
   "source": [
    "### Display output"
   ]
  },
  {
   "cell_type": "code",
   "execution_count": null,
   "id": "a40ddac9",
   "metadata": {},
   "outputs": [],
   "source": [
    "# Install moviepy from your terminal or powershell.\n",
    "# pip install moviepy \n",
    "from moviepy.editor import *\n",
    "output_file = './comparison-video.mp4'\n",
    "# loading output video.\n",
    "clip = VideoFileClip(output_file)\n",
    "clip.ipython_display(width = 800)"
   ]
  }
 ],
 "metadata": {
  "kernelspec": {
   "display_name": "Python 3",
   "language": "python",
   "name": "python3"
  },
  "language_info": {
   "codemirror_mode": {
    "name": "ipython",
    "version": 3
   },
   "file_extension": ".py",
   "mimetype": "text/x-python",
   "name": "python",
   "nbconvert_exporter": "python",
   "pygments_lexer": "ipython3",
   "version": "3.8.12"
  }
 },
 "nbformat": 4,
 "nbformat_minor": 5
}
